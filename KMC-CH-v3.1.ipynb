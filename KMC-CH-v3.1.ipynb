{
 "cells": [
  {
   "cell_type": "markdown",
   "metadata": {},
   "source": [
    "# Version 3.1\n",
    "In KMC-CH version 2 series, the code is rebuilt as compared to version 1.  \n",
    "Check update in this link: http://www.evernote.com/l/AjzZYZtFa35AV7hPiPMWIsesG9tjAZAgl_4/  \n",
    "\n",
    "For update since version 2.0:  \n",
    "1. add 'write to csv' function\n",
    "2. post analysis: dilute the time course when writing to csv files\n",
    "3. Change enzyme concentration to 8 nM (v2.3)\n",
    "4. dl[]: Cancel the list of rate matrix and lattice matrix, in order to release memory.\n",
    "5. func_gamma: cut the scanning range to the vicinity of the excuted point\n",
    "6. Add the progress output to KMC loop, using tqdm: https://pypi.python.org/pypi/tqdm#ipython-jupyter-integration  \n",
    "7. Add a leakage from E1 to bridge\n",
    "8. adsorption on bridge is included\n",
    "9. scan the whole lattice surface in each KMC step"
   ]
  },
  {
   "cell_type": "code",
   "execution_count": null,
   "metadata": {},
   "outputs": [],
   "source": [
    "import numpy as np\n",
    "import scipy.constants as sc\n",
    "import matplotlib.pyplot as plt\n",
    "import matplotlib as mpl\n",
    "import matplotlib.cm as cm\n",
    "from matplotlib import animation, rc\n",
    "from IPython.display import HTML\n",
    "from JSAnimation.IPython_display import display_animation\n",
    "import copy\n",
    "\n",
    "#%precision %.4g\n",
    "%matplotlib inline"
   ]
  },
  {
   "cell_type": "markdown",
   "metadata": {},
   "source": [
    "### KMC Settings"
   ]
  },
  {
   "cell_type": "markdown",
   "metadata": {},
   "source": [
    "samp = \"sample_index\" # set the name of this simulation or sample\n",
    "\n",
    "lat_hop=4 # number of hopping sites\n",
    "prl=100    # number of parallel cascades\n",
    "st=10**7  # number of kMC steps\n",
    "rep=2    # number of repeating KMC loops"
   ]
  },
  {
   "cell_type": "code",
   "execution_count": null,
   "metadata": {},
   "outputs": [],
   "source": [
    "samp = \"sample_index\" # set the name of this simulation or sample\n",
    "\n",
    "prl=100    # number of parallel cascades\n",
    "st=10**7  # number of kMC steps\n",
    "rep=5    # number of repeating KMC loops"
   ]
  },
  {
   "cell_type": "code",
   "execution_count": null,
   "metadata": {},
   "outputs": [],
   "source": [
    "N_hop = [number_of_hop_site, 3] # number of hopping sites\n",
    "\n",
    "xE1 = 0            # index of E1\n",
    "xE2 = N_hop[0]+1    # index of E2\n",
    "xE3 = sum(N_hop)+2  # index of E3\n",
    "dim = sum(N_hop)+3  # length of lattice"
   ]
  },
  {
   "cell_type": "code",
   "execution_count": null,
   "metadata": {},
   "outputs": [],
   "source": [
    "T=310 # temperature in K\n",
    "\n",
    "c_enzyme= 8E-9 # concentration of channeling cascade in mol/L\n",
    "vol=(prl/sc.N_A)/c_enzyme # volume of the system in L\n",
    "\n",
    "c_sub=2 # concentration of substrate for E1 in mol/L\n",
    "N_sub=c_sub*vol*sc.N_A # number of bulk substrate for E1"
   ]
  },
  {
   "cell_type": "markdown",
   "metadata": {},
   "source": [
    "### Rate constant from MD and Expt"
   ]
  },
  {
   "cell_type": "code",
   "execution_count": null,
   "metadata": {},
   "outputs": [],
   "source": [
    "k_cat     = np.array([0.7, 6.2, 6.2])          # turnover frequency for enzyme 1 2 3, in molecules/s\n",
    "KM       = np.array([10**(-5), 1/(1.85*10**5), 1/(1.85*10**5)])      # Michaelis Constant for each enzyme\n",
    "N_KM     = KM*sc.N_A*vol                                             # corresponding molecule number\n",
    "\n",
    "k_des_sub = k_cat*0.1                          # substrate desorption rate on each enzyme\n",
    "k_ads_sub = (k_cat+k_des_sub)/KM\n",
    "\n",
    "k_hop_pdt = k_cat*100                     # product hopping rate from each enzyme to bridge\n",
    "k_des_pdt = k_hop_pdt[:2]*np.array([0, 0])   # product desorption rate on each enzyme\n",
    "k_ads_pdt = np.array([0, 0, 0])                  # product adsorption rate on each enzyme\n",
    "\n",
    "k2k_brbr_hop2des = np.array([khop__kdes, khop__kdes])          # the rate constant ratio of hopping to desorption, on bridge\n",
    "k2k_brbr_ads2des = np.array([kads__kdes,kads__kdes])        # the rate constant ratio of adsorption to desorption, on bridge\n",
    "k2k_brE2_hop2des = np.array([khop_BrE2__kdes, khop_BrE2__kdes])          # the rate constant ratio of hopping to desorption, from bridge to enzyme\n",
    "\n",
    "k_hop_itr = k_cat[:2]*100          # hopping rate of intermediate on bridge\n",
    "k_des_itr = k_hop_itr / k2k_brbr_hop2des        # intermediate desorption rate on bridge\n",
    "k_trv_itr = k_des_itr * k2k_brE2_hop2des       # intermediate hopping rate from bridge to enzyme, traverse\n",
    "k_ads_itr = k_des_itr * k2k_brbr_ads2des          # adsorption rate of intermediate on bridge\n",
    "\n",
    "k_inf = k_cat[0]*10**16 # set a infinit rate constant"
   ]
  },
  {
   "cell_type": "markdown",
   "metadata": {},
   "source": [
    "### The switchs"
   ]
  },
  {
   "cell_type": "code",
   "execution_count": null,
   "metadata": {},
   "outputs": [],
   "source": [
    "## Turn this on if you want to turn off the leaking from E1 to bridge\n",
    "k_des_pdt[0]=0\n",
    "k_des_pdt[1]=0"
   ]
  },
  {
   "cell_type": "markdown",
   "metadata": {},
   "source": [
    "## Turn this on if you want to run symmetric leakage on each enzyme\n",
    "k_des_pdt=k_hop_pdt[:2]/k2k_brE2"
   ]
  },
  {
   "cell_type": "markdown",
   "metadata": {},
   "source": [
    "## Turn this on if you want to turn off the leaking from bridge to E2,E3\n",
    "k_trv_itr[0]=k_hop_itr[0]\n",
    "k_trv_itr[1]=k_hop_itr[1]"
   ]
  },
  {
   "cell_type": "markdown",
   "metadata": {},
   "source": [
    "## Turn this on if you want to run free standing system\n",
    "k_des_pdt[0]=k_inf*1\n",
    "k_des_pdt[1]=k_inf*1\n",
    "\n",
    "k_ads_itr[0]=0\n",
    "k_ads_itr[1]=0\n",
    "\n",
    "k_hop_pdt[0]=0\n",
    "k_hop_pdt[1]=0"
   ]
  },
  {
   "cell_type": "code",
   "execution_count": null,
   "metadata": {},
   "outputs": [],
   "source": [
    "## Turn this on if you want to run two step reaction\n",
    "k_cat[2]=0\n",
    "k_des_sub[2]=0\n",
    "k_ads_sub[2]=0\n",
    "k_des_itr[1]=0\n",
    "k_ads_itr[1]=0\n",
    "k_hop_itr[1]=0\n",
    "k_trv_itr[1]=0\n",
    "k_hop_pdt[1]=0\n",
    "k_des_pdt[1]=k_inf*1"
   ]
  },
  {
   "cell_type": "markdown",
   "metadata": {},
   "source": [
    "### Rate constant matrix"
   ]
  },
  {
   "cell_type": "code",
   "execution_count": null,
   "metadata": {},
   "outputs": [],
   "source": [
    "'''Define the 'rate constant matrix', which will be used to assign value to rate matrix\n",
    "row is event\n",
    "column is the type of site: e.g.,0. E1; 1. bridge +1; 2. other bridge; 3. bridge -1 4. E2\n",
    "'''\n",
    "RC_mat_ori = [[k_ads_sub[0],k_ads_itr[0],k_ads_itr[0],k_ads_itr[0],k_ads_sub[1],k_ads_itr[1],k_ads_itr[1],k_ads_itr[1],k_ads_sub[2]], # ads of sub\n",
    "              [k_des_sub[0],           0,           0,           0,k_des_sub[1],           0,           0,           0,k_des_sub[2]], # des of sub\n",
    "              [    k_cat[0],           0,           0,           0,    k_cat[1],           0,           0,           0,    k_cat[2]], # reaction of sub\n",
    "              [k_des_pdt[0],k_des_itr[0],k_des_itr[0],k_des_itr[0],k_des_pdt[1],k_des_itr[1],k_des_itr[1],k_des_itr[1],           0], # des of pdt\n",
    "              [k_hop_pdt[0],k_hop_itr[0],k_hop_itr[0],k_trv_itr[0],k_hop_pdt[1],k_hop_itr[1],k_hop_itr[1],k_trv_itr[1],           0], # right hop of inter\n",
    "              [           0,           0,k_hop_itr[0],k_hop_itr[0],           0,           0,k_hop_itr[1],k_hop_itr[1],           0]  # left hop of inter\n",
    "             ]\n",
    "RC_mat_ori = np.array(RC_mat_ori)\n",
    "\n",
    "# duplicate the middle bridge site, making the rate constant matix the same dimension with lattice surface\n",
    "RC_mat=np.array([r[0:2].tolist()+\n",
    "                 [r[2]]*(N_hop[0]-2)+\n",
    "                 r[3:6].tolist()+\n",
    "                 [r[6]]*(N_hop[1]-2)+\n",
    "                 r[7:9].tolist() for r in RC_mat_ori])\n",
    "\n",
    "RC_mat[0][0]=RC_mat[0][0]*c_sub # assign concentration value to the adsorption rate on E1\n",
    "\n",
    "#### Preview 'Rate constant matrix'\n",
    "print('Order of magnitude for rate constant matrix: (-inf is from zero rate)')\n",
    "print(RC_mat.shape)\n",
    "print(np.round(np.log10(RC_mat)))"
   ]
  },
  {
   "cell_type": "markdown",
   "metadata": {},
   "source": [
    "#### Define a matrix of the beginning and ending points for lattice surface scan"
   ]
  },
  {
   "cell_type": "code",
   "execution_count": null,
   "metadata": {},
   "outputs": [],
   "source": [
    "sb_0=np.array([[0,-1,-1,-1,-1], # adsorption sub\n",
    "               [0,-1,-1,-1,-1], # desorption sub\n",
    "               [0,-1,-1,-1,-1], # reaction sub\n",
    "               [0,-1,-1,-1,-1], # desorption pdt\n",
    "               [0,-1,-1,-1,-1], # right hop\n",
    "               [0,-1,-2,-2,-2]])# left hop\n",
    "\n",
    "se_0=np.array([[2,2,2,2,1], # adsorption sub\n",
    "               [2,2,2,2,1], # desorption sub\n",
    "               [2,2,2,2,1], # reaction\n",
    "               [2,2,2,2,1], # desorption pdt\n",
    "               [3,3,3,2,1], # right hop\n",
    "               [2,2,2,2,1]])# left hop\n",
    "\n",
    "sb=np.array([r[0:2].tolist()+[r[2]]*(sum(N_hop)-1)+r[3:5].tolist() for r in sb_0])\n",
    "se=np.array([r[0:2].tolist()+[r[2]]*(sum(N_hop)-1)+r[3:5].tolist() for r in se_0])\n",
    "print(sb.shape)\n",
    "print(sb)\n",
    "print(se)"
   ]
  },
  {
   "cell_type": "markdown",
   "metadata": {},
   "source": [
    "#### Brief summary of the system"
   ]
  },
  {
   "cell_type": "code",
   "execution_count": null,
   "metadata": {},
   "outputs": [],
   "source": [
    "print('Ratio of actual TOF and k_cat on E1:')\n",
    "print(c_sub/(c_sub+KM[0]))"
   ]
  },
  {
   "cell_type": "code",
   "execution_count": null,
   "metadata": {
    "scrolled": true
   },
   "outputs": [],
   "source": [
    "print('Number of cascade:%i'%prl)\n",
    "print('Box volume: %.2f e-15 Liter'%(10**15*vol))\n",
    "print('KM on E1 and E2 are %.3f, %.3f, %.3f mM' %(1000*KM[0],1000*KM[1],1000*KM[2]))\n",
    "print('[I] for E2,E3 to reach E1 rate: %.2f, %.2f uM' %(10**6*k_cat[0]*KM[1]/(k_cat[1]-k_cat[0]),10**6*k_cat[0]*KM[2]/(k_cat[2]-k_cat[0])))\n",
    "print('Analytical lag time for free standing system: %.1f sec' %(k_cat[0]*KM[1]/(k_cat[1]-k_cat[0])/(c_enzyme*k_cat[0])))"
   ]
  },
  {
   "cell_type": "code",
   "execution_count": null,
   "metadata": {},
   "outputs": [],
   "source": [
    "k1_to_k2=100\n",
    "dE=np.log(k1_to_k2)*T*sc.R/1000\n",
    "print('If rate ratio k1/k2 is %i, the energy difference is %.2f kJ/mol' %(k1_to_k2,dE) )"
   ]
  },
  {
   "cell_type": "markdown",
   "metadata": {},
   "source": [
    "### Occurance matrix (y&n) and generation function: *<font color=blue>func_occur</font>*"
   ]
  },
  {
   "cell_type": "code",
   "execution_count": null,
   "metadata": {
    "scrolled": true
   },
   "outputs": [],
   "source": [
    "#  Makge the matrix that judge the occurance of each event, based the lattice matrix\n",
    "# 1 is yes, zeor or negative is no\n",
    "def func_occur_assist(nhop): # input nhop should be a 2 element array\n",
    "\n",
    "    # 1.ads sub\n",
    "    ads_sub = np.zeros(shape=(dim,dim),dtype=int)        \n",
    "\n",
    "    # 2.des sub\n",
    "    des_sub = np.zeros(shape=(dim,dim),dtype=int)\n",
    "    des_sub[xE1,xE1], des_sub[xE2,xE2], des_sub[xE3,xE3] = -1,1,-1\n",
    "\n",
    "    # 3.reaction sub\n",
    "    rct_sub = np.zeros(shape=(dim,dim),dtype=int)\n",
    "    rct_sub[xE1,xE1], rct_sub[xE2,xE2], rct_sub[xE3,xE3] = -1,1,-1\n",
    "\n",
    "    # 4.des pdt/inter\n",
    "    des_pdt            = np.diag(np.ones(shape=dim,dtype=int), 0)\n",
    "    des_pdt[xE2:,xE2:] = des_pdt[xE2:,xE2:]*(-1)\n",
    "    des_pdt[xE1,xE1], des_pdt[xE2,xE2], des_pdt[xE3,xE3] = 1,-1,1\n",
    "\n",
    "    # 5.hop right\n",
    "    right = np.diag(-np.ones(shape=(dim-1),dtype=int), -1) + np.diag(np.ones(shape=dim,dtype=int), 0)\n",
    "    right[:,(-1)] = 0\n",
    "\n",
    "    # 6.hop left\n",
    "    left  = np.diag(-np.ones(shape=(dim-1),dtype=int), 1) + np.diag(np.ones(shape=dim,dtype=int), 0)\n",
    "    left[:,(xE1,(xE1+1),xE2,(xE2+1),xE3)] = 0\n",
    "\n",
    "    return np.array([ads_sub,des_sub,rct_sub,des_pdt,right,left])\n",
    "\n",
    "# make the occur assist matrix for this system\n",
    "assist_mat = func_occur_assist(nhop=N_hop)\n",
    "print(type(assist_mat))\n",
    "print(assist_mat)"
   ]
  },
  {
   "cell_type": "code",
   "execution_count": null,
   "metadata": {},
   "outputs": [],
   "source": [
    "def func_occur(lat_1D,ast_mat): # lat_1D is a 1d array of a specific cascade\n",
    "    \n",
    "    if len(lat_1D)!=ast_mat.shape[-1]:\n",
    "        print('1D lattice and hopping site does not match!!!')\n",
    "    \n",
    "    else:\n",
    "        # 1.ads sub\n",
    "        ocr_ads_sub = abs(abs(lat_1D)-1)       \n",
    "\n",
    "        # 2.des sub\n",
    "        ocr_des_sub = np.dot(lat_1D,ast_mat[1]).clip(min=0)\n",
    "        \n",
    "        # 3.reaction sub\n",
    "        ocr_rct_sub = np.dot(lat_1D,ast_mat[2]).clip(min=0)\n",
    "\n",
    "        # 4.des pdt/inter\n",
    "        ocr_des_pdt = np.dot(lat_1D,ast_mat[3]).clip(min=0)\n",
    "\n",
    "        # 5.hop right\n",
    "        ocr_right = ocr_des_pdt*np.dot(abs(lat_1D),ast_mat[4]).clip(min=0)\n",
    "\n",
    "        # 6.hop left\n",
    "        ocr_left = ocr_des_pdt*np.dot(abs(lat_1D),ast_mat[5]).clip(min=0)\n",
    "        \n",
    "        return np.array([ocr_ads_sub,ocr_des_sub,ocr_rct_sub,ocr_des_pdt,ocr_right,ocr_left])\n",
    "        \n",
    "# Do a quick test\n",
    "lat_test = np.random.randint(3, size=(1, dim))-1\n",
    "ocr_test = np.array([func_occur(lat_1D=l,ast_mat=assist_mat) for l in lat_test])\n",
    "\n",
    "import pandas as pd\n",
    "df=pd.DataFrame(lat_test)\n",
    "s=['ads_sub','des_sub','rct_sub','des_pdt','right','left']\n",
    "for i in np.arange(6):\n",
    "    df.loc[s[i]]=ocr_test[0][i]\n",
    "df"
   ]
  },
  {
   "cell_type": "markdown",
   "metadata": {},
   "source": [
    "###  Rate calculation function: *<font color=blue>func_gamma</font>*"
   ]
  },
  {
   "cell_type": "code",
   "execution_count": null,
   "metadata": {
    "scrolled": true
   },
   "outputs": [],
   "source": [
    "def func_gamma(lat_in,conc_in,gamma_in,index,scan):\n",
    "    \n",
    "    gamma_in = copy.deepcopy(gamma_in)\n",
    "    \n",
    "    k,j,i=index # Get the site executed last step    \n",
    "    \n",
    "    if scan=='whole':     # scan=whole, scan the whole lattice surface; scan=vicinity, scan the changed site of lattice surface\n",
    "        scan_j = np.arange(lat_in.shape[0])\n",
    "        b=0\n",
    "        e=lat_in.shape[1]        \n",
    "    elif scan=='vicinity':\n",
    "        scan_j = [j]\n",
    "        b=i+sb[k,i]\n",
    "        e=i+se[k,i]\n",
    "    else:\n",
    "        print('wrong input of scan')\n",
    "      \n",
    "    for jj in scan_j:# update the rate arount the event site\n",
    "        gamma_in[:,jj,b:e] = R_mat[:,b:e] * func_occur(lat_1D=lat_in[jj],ast_mat=assist_mat)[:,b:e]\n",
    "   \n",
    "    if k in [0,1,3]: # if the bulk concentration change, update the ads event for all sites\n",
    "        R_mat[0][1:(xE2+1)] = RC_mat[0][1:(xE2+1)]*conc_in[0] # involve the bulk concentration to bridge and active sites\n",
    "        R_mat[0][(xE2+1):]  = RC_mat[0][(xE2+1):]*conc_in[1]    \n",
    "        \n",
    "        for jj in np.arange(lat_in.shape[0]):\n",
    "            gamma_in[0,jj,1:] = R_mat[0,1:] * abs(abs(lat_in[jj,1:])-1)\n",
    "    \n",
    "    return gamma_in"
   ]
  },
  {
   "cell_type": "markdown",
   "metadata": {},
   "source": [
    "#### Quick test on func_gamma\n",
    "lat_test = np.random.randint(3, size=(1, 11))-1\n",
    "gamma_test = np.zeros((6, lat_test.shape[0],lat_test.shape[1]))\n",
    "print(lat_test)\n",
    "gamma_test = func_gamma(lat_in = lat_test,\n",
    "                        conc_in = [10**(-5),10**(-5)],\n",
    "                        RC_in   = RC_mat,\n",
    "                        gamma_in = gamma_test,\n",
    "                        index = (4,3,5),\n",
    "                        scan='whole')\n",
    "print(np.round(np.log10(gamma_test))) # show the order of magnitude of the rate matrix"
   ]
  },
  {
   "cell_type": "markdown",
   "metadata": {},
   "source": [
    "### Execution function: *<font color=blue>func_ext</font>*"
   ]
  },
  {
   "cell_type": "code",
   "execution_count": null,
   "metadata": {},
   "outputs": [],
   "source": [
    "def func_ext(lat_in,Nbk_in,index):    \n",
    "    lat_in=copy.deepcopy(lat_in)\n",
    "    Nbk_in=copy.deepcopy(Nbk_in) # 3 element array with the number of bulk intermediate\n",
    "    k,j,i = index\n",
    "    \n",
    "    if k==0:     # substrate adsorption\n",
    "        if i==xE1 and lat_in[j,i]==0:\n",
    "            lat_in[j,i]=-1\n",
    "        elif i in np.arange(1,(xE2+1)) and lat_in[j,i]==0:\n",
    "            lat_in[j,i]=1\n",
    "            Nbk_in[0] -= 1\n",
    "        elif i in np.arange(xE2+1,xE3+1) and lat_in[j,i]==0:\n",
    "            lat_in[j,i]=-1\n",
    "            Nbk_in[1] -= 1        \n",
    "        else:\n",
    "            print('Error k=0: wrong index or substrate adsorption is not allowed on bridge.')\n",
    "            \n",
    "    elif k==1:     # substrate desorption        \n",
    "        if i==xE1 and lat_in[j,i]==-1:\n",
    "            lat_in[j,i]=0\n",
    "        elif i==xE2 and lat_in[j,i]==1:\n",
    "            lat_in[j,i]=0\n",
    "            Nbk_in[0]+=1\n",
    "        elif i==xE3 and lat_in[j,i]==-1:\n",
    "            lat_in[j,i]=0\n",
    "            Nbk_in[1]+=1            \n",
    "        else:\n",
    "            print('Error k=1: wrong index or substrate desorption not allowed on bridge')    \n",
    "    \n",
    "    elif k==2:     # reaction        \n",
    "        if i==xE1 and lat_in[j,i]==-1:\n",
    "            lat_in[j,i]*=(-1)\n",
    "        elif i==xE2 and lat_in[j,i]==1:\n",
    "            lat_in[j,i]*=(-1)        \n",
    "        elif i==xE3 and lat_in[j,i]==-1:\n",
    "            lat_in[j,i]=0\n",
    "            Nbk_in[2]+=1\n",
    "        else:\n",
    "            print('Error k=2: substrate reaction not allowed on bridge')    \n",
    "    \n",
    "    elif k==3:     # pdt/inter desorption           \n",
    "        if i in np.arange(xE1,xE2) and lat_in[j,i]==1:\n",
    "            lat_in[j,i]=0\n",
    "            Nbk_in[0]+=1   \n",
    "        elif i in np.arange(xE2,xE3) and lat_in[j,i]==-1:\n",
    "            lat_in[j,i]=0\n",
    "            Nbk_in[1]+=1\n",
    "        elif i==xE3:\n",
    "            print('Error k=3, no pdt desorption on E3 site, that is involved in the reaction')   \n",
    "        else:\n",
    "            print('Error k=3,desorption on a wrong site')\n",
    "    \n",
    "    elif k==4:    # right hop\n",
    "        if i in np.arange(xE1,xE2) and lat_in[j,i]==1:\n",
    "            lat_in[j,i], lat_in[j,i+1] = lat_in[j,i+1], lat_in[j,i] \n",
    "        elif i in np.arange(xE2,xE3) and lat_in[j,i]==-1:\n",
    "            lat_in[j,i], lat_in[j,i+1] = lat_in[j,i+1], lat_in[j,i] \n",
    "        elif i==xE3:\n",
    "            print('Error k=4, no hop-right on last site')   \n",
    "        else:\n",
    "            print('Error k=4, right hop event on wrong site')\n",
    "    \n",
    "    elif k==5:  # left hop\n",
    "        if i in np.arange(xE1+2,xE2) and lat_in[j,i]==1:\n",
    "            lat_in[j,i], lat_in[j,i-1] = lat_in[j,i-1], lat_in[j,i]\n",
    "        elif i in np.arange(xE2+2,xE3) and lat_in[j,i]==-1:\n",
    "            lat_in[j,i], lat_in[j,i-1] = lat_in[j,i-1], lat_in[j,i]\n",
    "        elif i==xE3:\n",
    "            print('Error k=5, no hop-rleft on last site')   \n",
    "        else:\n",
    "            print('Error k=5, left hop event on wrong site')    \n",
    "    \n",
    "    else:\n",
    "        print('Need to input the event index k between 0 and 5')\n",
    "        \n",
    "    return lat_in,Nbk_in  "
   ]
  },
  {
   "cell_type": "code",
   "execution_count": null,
   "metadata": {},
   "outputs": [],
   "source": [
    "np.arange(xE1+2,xE2-1)"
   ]
  },
  {
   "cell_type": "markdown",
   "metadata": {},
   "source": [
    "#### quick test on func_ext\n",
    "lat_test = np.random.randint(3, size=(1, 11))-1\n",
    "print(lat_test)\n",
    "Nbk_test=[100,30,10]\n",
    "print(Nbk_test)"
   ]
  },
  {
   "cell_type": "markdown",
   "metadata": {},
   "source": [
    "lat_test,Nbk_test=func_ext(lat_in=lat_test,Nbk_in=Nbk_test,index=(4,0,2))\n",
    "print(lat_test)\n",
    "print(Nbk_test)"
   ]
  },
  {
   "cell_type": "markdown",
   "metadata": {},
   "source": [
    "new_lat_test,new_Nbk = func_ext(lat_test,Nbk_test,(2,3,0))\n",
    "print(new_lat_test)\n",
    "print(new_Nbk)"
   ]
  },
  {
   "cell_type": "markdown",
   "metadata": {},
   "source": [
    "### Lattice matrix generation function: *<font color=blue>func__lattice_init</font>*"
   ]
  },
  {
   "cell_type": "code",
   "execution_count": null,
   "metadata": {},
   "outputs": [],
   "source": [
    "def func_lattice_init():\n",
    "    # Nhop is the number of hopping sites on each enzyme couple\n",
    "    # Nprl is the number of parallel enzyme couple used in this simulation\n",
    "    return np.zeros(shape=(prl,dim), dtype=np.int); # make an empty surface\n",
    "\n",
    "print('here is an example')\n",
    "print(func_lattice_init().shape)"
   ]
  },
  {
   "cell_type": "markdown",
   "metadata": {},
   "source": [
    "## KMC Loop"
   ]
  },
  {
   "cell_type": "code",
   "execution_count": null,
   "metadata": {
    "scrolled": true
   },
   "outputs": [],
   "source": [
    "import time\n",
    "from tqdm import tqdm_notebook as tqdm\n",
    "\n",
    "dl=[]\n",
    "\n",
    "for kk in np.arange(0,rep): \n",
    "    lat_mat = func_lattice_init()\n",
    "    t_0 = 0\n",
    "    Nbk_0 = np.array([0,0,0]) # product from [E1,E2,E3]\n",
    "    \n",
    "    R_mat=copy.deepcopy(RC_mat)\n",
    "    R_mat[0][1:(xE2+1)] = RC_mat[0][1:(xE2+1)]*Nbk_0[0] # involve the bulk concentration to bridge and active sites\n",
    "    R_mat[0][(xE2+1):]  = RC_mat[0][(xE2+1):]*Nbk_0[1] \n",
    "\n",
    "    gamma_mat = np.zeros((6, prl,dim))\n",
    "    gamma_mat = func_gamma(lat_in   = lat_mat,\n",
    "                           conc_in  = (Nbk_0/sc.N_A/vol),\n",
    "                           gamma_in = gamma_mat,\n",
    "                           index    = (0,0,0),\n",
    "                           scan     = 'whole') # for the first time, the whole lattice will be scanned to calculate the rate\n",
    "    gamma_shape = gamma_mat.shape\n",
    "    \n",
    "    d={'Nbk':        [Nbk_0],\n",
    "       't':          [t_0],\n",
    "       'event_index':[]\n",
    "      }\n",
    "    \n",
    "    for ii in tqdm(range(1,st+1)):\n",
    "        if d['t'][-1]>=1000:\n",
    "            break\n",
    "            \n",
    "        Rho_1, Rho_2= 1-np.random.rand(2) # use '1-' to make the range from [0,1) to (0,1]\n",
    "        cum_gamma_mat = np.cumsum(gamma_mat) # 1D cumulative result\n",
    "        event_index   = np.unravel_index(np.argmax(cum_gamma_mat >= Rho_1*cum_gamma_mat[-1]),gamma_shape) # Select event and convert to 3D index\n",
    "        #d['Rho'].append([Rho_1, Rho_2])\n",
    "        \n",
    "        delta_t = d['t'][-1] - np.log(Rho_2)/cum_gamma_mat[-1]\n",
    "        d['t'].append(delta_t) # calculate dt and append it\n",
    "        \n",
    "        d['event_index'].append(event_index)\n",
    "        \n",
    "        lat_mat, Nbk = func_ext(lat_in = lat_mat,\n",
    "                                Nbk_in = d['Nbk'][-1],\n",
    "                                index  = event_index)# execute the event\n",
    "\n",
    "        d['Nbk'].append(Nbk)\n",
    "        \n",
    "        gamma_mat = func_gamma(lat_in   = lat_mat, #cascade lattice surface\n",
    "                               conc_in  = (d['Nbk'][-1]/sc.N_A/vol), # bulk [I] concentration in mol/L\n",
    "                               gamma_in = gamma_mat,\n",
    "                               index    = event_index,\n",
    "                               scan     = 'vicinity') #calculate the rates for next step \n",
    "    \n",
    "    dl.append(d)\n",
    "    print ('Run-%i: time is %g s, step is %i' %(len(dl),d['t'][-1],len(d['t'])))"
   ]
  },
  {
   "cell_type": "markdown",
   "metadata": {},
   "source": [
    "### Make a movie  \n",
    "This is used to check if there is some significant issue with the KM Csimulation"
   ]
  },
  {
   "cell_type": "markdown",
   "metadata": {},
   "source": [
    "import numpy as np\n",
    "import matplotlib.pyplot as plt \n",
    "import matplotlib.animation as animation\n",
    "\n",
    "mpl.rcParams['figure.figsize']=0.5*np.array([prl, (lat_hop+2)])\n",
    "\n",
    "#### http://stackoverflow.com/questions/10429556/animate-quadratic-grid-changes-matshow\n",
    "fig, ax = plt.subplots()\n",
    "\n",
    "lat_mat_tran = dl[0]['lat_mat'][0:50]\n",
    "mat = ax.matshow(lat_mat_tran[0], vmin=-1, vmax=1)\n",
    "mov_frm = lat_mat_tran #make the movie every 0.1*st steps\n",
    "anim = animation.FuncAnimation(fig, mat.set_data, frames=mov_frm)\n",
    "display_animation(anim, default_mode='once')\n",
    "\n",
    "#### anim.save('animation-CH-leak.mp4')"
   ]
  },
  {
   "cell_type": "markdown",
   "metadata": {},
   "source": [
    "### Fitting function: *<font color=blue>func_fit</font>*"
   ]
  },
  {
   "cell_type": "code",
   "execution_count": null,
   "metadata": {},
   "outputs": [],
   "source": [
    "def func_fit(x,y,per1,per2):\n",
    "    slop, y_intercept=np.polyfit(x[int(len(x)*per1):int(len(x)*per2)],y[int(len(y)*per1):int(len(y)*per2)],1) \n",
    "    xx=np.arange(x[0],x[-1])\n",
    "    yy=xx*slop+y_intercept\n",
    "    xx=xx[np.where((yy>=0)&(yy<=max(yy)))]\n",
    "    yy=yy[np.where((yy>=0)&(yy<=max(yy)))]\n",
    "    lag=xx[np.where(yy==min(abs(yy)))]\n",
    "    xx=xx[(len(xx)*np.arange(0,1,0.01)).astype(int)]\n",
    "    yy=yy[(len(yy)*np.arange(0,1,0.01)).astype(int)]\n",
    "    return xx, yy, lag, slop, y_intercept"
   ]
  },
  {
   "cell_type": "markdown",
   "metadata": {},
   "source": [
    "### Post Analysis  \n",
    "Calculate the things we interested based on the event_index evolution."
   ]
  },
  {
   "cell_type": "code",
   "execution_count": null,
   "metadata": {},
   "outputs": [],
   "source": [
    "i=0\n",
    "for d in dl:\n",
    "    e0 = np.array([dx[0] for dx in d['event_index']]) # event species\n",
    "    e1 = np.array([dx[1] for dx in d['event_index']]) # cascade index\n",
    "    e2 = np.array([dx[2] for dx in d['event_index']]) # site index on cascade\n",
    "    length=len(e0)\n",
    "    \n",
    "    # reaction event evolution\n",
    "    r1=np.zeros(length);  r1[np.where((e0==2) & (e2==xE1))]=1;  r1 = np.cumsum(r1)/sc.N_A/vol*10**6 # in uM\n",
    "    r2=np.zeros(length);  r2[np.where((e0==2) & (e2==xE2))]=1;  r2 = np.cumsum(r2)/sc.N_A/vol*10**6 # in uM\n",
    "    r3=np.zeros(length);  r3[np.where((e0==2) & (e2==xE3))]=1;  r3 = np.cumsum(r3)/sc.N_A/vol*10**6 # in uM\n",
    "\n",
    "    r2_fitx, r2_fity, r2_lag, slop, y_intercept = func_fit(d['t'][1:],r2,0.5,1)    # extend the steady state curve to calculated lagtime    \n",
    "    r3_fitx, r3_fity, r3_lag, slop, y_intercept = func_fit(d['t'][1:],r3,0.5,1)\n",
    "    \n",
    "    lk1=np.zeros(length);    lk1[np.where((e0==3) & (e2==xE1))]=1;    lk1 = np.cumsum(lk1)/sc.N_A/vol*10**6 # in uM\n",
    "    lk4=np.zeros(length);    lk4[np.where((e0==3) & (e2==xE2))]=1;    lk4 = np.cumsum(lk4)/sc.N_A/vol*10**6 # in uM\n",
    "    \n",
    "    lk3=np.zeros(length);    lk3[np.where((e0==3) & (e2==xE2-1))]=1;    lk3 = np.cumsum(lk3)/sc.N_A/vol*10**6 # in uM\n",
    "    lk6=np.zeros(length);    lk6[np.where((e0==3) & (e2==xE3-1))]=1;    lk6 = np.cumsum(lk6)/sc.N_A/vol*10**6 # in uM    \n",
    "    \n",
    "    lk2=np.zeros(length);    lk2[np.where((e0==3) & (e2>xE1) & (e2<xE2-1))]=1;    lk2 = np.cumsum(lk2)/sc.N_A/vol*10**6 # in uM\n",
    "    lk5=np.zeros(length);    lk5[np.where((e0==3) & (e2>xE2) & (e2<xE3-1))]=1;    lk5 = np.cumsum(lk5)/sc.N_A/vol*10**6 # in uM\n",
    "\n",
    "    # Dilute list index\n",
    "    csv_idx=[0]\n",
    "    j=0\n",
    "    for x in d['t']:\n",
    "        if x-d['t'][csv_idx[-1]]>=0.1: # get the points every 0.1 sec\n",
    "            csv_idx.append(j)\n",
    "        j+=1\n",
    "    csv_idx=np.array(csv_idx)\n",
    "    # update the dictornary from each KMC simulations\n",
    "    dl[i].update({'r1':r1,'r2':r2,'r3':r3,\n",
    "                  'r2_fitx':r2_fitx,'r2_fity':r2_fity,'r2_lag':r2_lag,\n",
    "                  'r3_fitx':r3_fitx,'r3_fity':r3_fity,'r3_lag':r3_lag,\n",
    "                  'csv_idx':csv_idx,\n",
    "                  'lk1':lk1,'lk2':lk2,'lk3':lk3,'lk4':lk4,'lk5':lk5,'lk6':lk6\n",
    "                 })\n",
    "    i+=1    \n",
    "dl[0].keys()"
   ]
  },
  {
   "cell_type": "markdown",
   "metadata": {},
   "source": [
    "### Summary"
   ]
  },
  {
   "cell_type": "code",
   "execution_count": null,
   "metadata": {},
   "outputs": [],
   "source": [
    "r2_lag_list = [d['r2_lag'][0] for d in dl]\n",
    "r3_lag_list = [d['r3_lag'][0] for d in dl]\n",
    "\n",
    "avg_r2lag, std_r2lag = np.average(r2_lag_list), np.std(r2_lag_list)\n",
    "avg_r3lag, std_r3lag = np.average(r3_lag_list), np.std(r3_lag_list)\n",
    "\n",
    "print('Lag on E2: %.2f +- %.2f s' %(avg_r2lag,std_r2lag))\n",
    "print('Lag on E3: %.2f +- %.2f s' %(avg_r3lag,std_r3lag))"
   ]
  },
  {
   "cell_type": "markdown",
   "metadata": {},
   "source": [
    "## Plotting"
   ]
  },
  {
   "cell_type": "code",
   "execution_count": null,
   "metadata": {},
   "outputs": [],
   "source": [
    "mpl.rcParams['figure.figsize']=(8.0, 4.5)\n",
    "mpl.rcParams['figure.dpi']=100\n",
    "mpl.rcParams['xtick.direction']='in'\n",
    "mpl.rcParams['ytick.direction']='in'\n",
    "mpl.rcParams['xtick.top']='True'\n",
    "mpl.rcParams['ytick.right']='True'\n",
    "mpl.rcParams['font.size']=15.0\n",
    "mpl.rcParams['savefig.bbox']='tight'\n",
    "mpl.rcParams['savefig.transparent']='True'\n",
    "mpl.rcParams['axes.titlesize']=24\n",
    "mpl.rcParams['axes.labelsize']=20\n",
    "mpl.rcParams['xtick.labelsize']=16\n",
    "mpl.rcParams['ytick.labelsize']=16"
   ]
  },
  {
   "cell_type": "code",
   "execution_count": null,
   "metadata": {},
   "outputs": [],
   "source": [
    "fig, axs = plt.subplots(2,2,figsize=(10,8))\n",
    "\n",
    "i=0\n",
    "for d in [dl[0]]:\n",
    "    \n",
    "    t_cut =np.array(d['t'])[d['csv_idx']][1:]\n",
    "    i_all=np.array(d['Nbk'])\n",
    "    i1_cut=i_all[:,0][d['csv_idx']][1:]\n",
    "    i2_cut=i_all[:,1][d['csv_idx']][1:]\n",
    "    i1_cut=i1_cut/sc.N_A/vol*10**6\n",
    "    i2_cut=i2_cut/sc.N_A/vol*10**6    \n",
    "  \n",
    "    r1_cut=d['r1'][(d['csv_idx']-1)[1:]]\n",
    "    r2_cut=d['r2'][(d['csv_idx']-1)[1:]]\n",
    "    r3_cut=d['r3'][(d['csv_idx']-1)[1:]]\n",
    "    \n",
    "    lk1_cut=d['lk1'][(d['csv_idx']-1)[1:]]\n",
    "    lk2_cut=d['lk2'][(d['csv_idx']-1)[1:]]\n",
    "    lk3_cut=d['lk3'][(d['csv_idx']-1)[1:]]\n",
    "    lk4_cut=d['lk4'][(d['csv_idx']-1)[1:]]\n",
    "    lk5_cut=d['lk5'][(d['csv_idx']-1)[1:]]\n",
    "    lk6_cut=d['lk6'][(d['csv_idx']-1)[1:]]\n",
    "        \n",
    "    axs[0,0].plot(t_cut,r1_cut,linewidth=3,label='[P] from E1')\n",
    "    axs[0,0].plot(t_cut,r2_cut,linewidth=3,label='[P] from E2')\n",
    "    axs[0,0].plot(t_cut,r3_cut,linewidth=3,label='[P] from E3')   \n",
    "    axs[0,0].plot(d['r2_fitx'],d['r2_fity'],'--',linewidth=1.5,label='fit E2')\n",
    "    axs[0,0].plot(d['r3_fitx'],d['r3_fity'],'--',linewidth=1.5,label='fit E3')\n",
    "    axs[0,0].set_ylabel('Reaction/ $\\mu M$',fontsize=18)\n",
    "    axs[0,0].set_xlabel('Time / sec',fontsize=18)\n",
    "    axs[0,0].legend()\n",
    "\n",
    "    axs[0,1].plot(t_cut,i1_cut,linewidth=3,label='[I-1]')\n",
    "    axs[0,1].plot(t_cut,i2_cut,linewidth=3,label='[I-2]')\n",
    "    axs[0,1].set_xlabel('Time / sec',fontsize=18)\n",
    "    axs[0,1].set_ylabel('Bulk [I]/ $\\mu M$',fontsize=18)\n",
    "    axs[0,1].legend()\n",
    "    \n",
    "    axs[1,0].plot(t_cut,lk1_cut,linewidth=3,label='E1 to brg')\n",
    "    axs[1,0].plot(t_cut,lk2_cut,linewidth=3,label='on brg')\n",
    "    axs[1,0].plot(t_cut,lk3_cut,linewidth=3,label='brg to E2')\n",
    "    axs[1,0].plot(t_cut,lk4_cut,linewidth=3,label='E2 to brg')\n",
    "    axs[1,0].plot(t_cut,lk5_cut,linewidth=3,label='on brg')\n",
    "    axs[1,0].plot(t_cut,lk6_cut,linewidth=3,label='brg to E3')\n",
    "    \n",
    "    axs[1,0].set_ylabel('[Leak]/ $\\mu M$',fontsize=18)\n",
    "    axs[1,0].set_xlabel('Time / sec',fontsize=18)\n",
    "    axs[1,0].legend()\n",
    "    \n",
    "    \n",
    "    \n",
    "    '''\n",
    "    axs[1,1].plot(dl[0]['t'][1:],dl[0]['c_leak'],linewidth=3,label='[bridge leak]')\n",
    "    axs[1,1].set_ylabel('Bulk [I]/ $\\mu M$',fontsize=18)\n",
    "    axs[1,1].legend()\n",
    "    '''\n",
    "plt.tight_layout()\n",
    "plt.show()"
   ]
  },
  {
   "cell_type": "markdown",
   "metadata": {},
   "source": [
    "### Split the product profile into 'Nseg' segment and calculate the rate be fitting slop of each segment"
   ]
  },
  {
   "cell_type": "markdown",
   "metadata": {},
   "source": [
    "#Nseg=int(max(t)/100)\n",
    "Nseg=100\n",
    "grad_t=np.zeros(Nseg)\n",
    "grad_N_prt=np.zeros(Nseg)\n",
    "for i in np.arange(Nseg):    \n",
    "    grad_N_prt[i]=fit(t,N_prt,i*(1/Nseg),(i+1)*(1/Nseg))[3]\n",
    "    grad_t[i]=max(t)*i*(1/Nseg)"
   ]
  },
  {
   "cell_type": "markdown",
   "metadata": {},
   "source": [
    "### Write to csv files"
   ]
  },
  {
   "cell_type": "markdown",
   "metadata": {},
   "source": [
    "cd \"/Users/yuanchao/notebooks/KMC-CH\""
   ]
  },
  {
   "cell_type": "code",
   "execution_count": null,
   "metadata": {},
   "outputs": [],
   "source": [
    "import csv\n",
    "import pandas as pd\n",
    "\n",
    "df1 = pd.DataFrame({\"t_cut\" :t_cut,\n",
    "                    \"r1_cut\": r1_cut,\n",
    "                    \"r2_cut\": r2_cut,\n",
    "                    \"r3_cut\": r3_cut,\n",
    "                    \"i1_cut\": i1_cut,\n",
    "                    \"i2_cut\": i2_cut\n",
    "                   })\n",
    "\n",
    "df2 = pd.DataFrame({\"r2_fitx\": r2_fitx,\n",
    "                    \"r2_fity\": r2_fity,\n",
    "                    \"r3_fitx\": r3_fitx,\n",
    "                    \"r3_fity\": r3_fity,\n",
    "                   })\n",
    "\n",
    "df3 = pd.DataFrame({\"avg_lag\": [avg_r2lag],\n",
    "                    \"std_lag\": [std_r2lag],\n",
    "                    \"avg_r3lag\": [avg_r3lag],\n",
    "                    \"std_r3lag\": [std_r3lag]\n",
    "                   })\n",
    "df12 = pd.concat([df1,df2],axis=1)\n",
    "#df.to_csv(str(samp)+\".csv\",float_format='%15.9f', sep=\" \",quoting=csv.QUOTE_NONE, escapechar=\" \",index=False)\n",
    "#df1.to_csv(str(samp)+\"_tCourse.csv\",sep=\" \",index=False)\n",
    "\n",
    "df12.to_csv(str(samp)+\"_timecourse.csv\",sep=\" \",index=False)\n",
    "\n",
    "df3.to_csv(str(samp)+\"_summary.csv\",sep=\" \",index=False)\n",
    "df12.head(n=5)"
   ]
  },
  {
   "cell_type": "code",
   "execution_count": null,
   "metadata": {},
   "outputs": [],
   "source": [
    "df3.head(n=15)"
   ]
  },
  {
   "cell_type": "markdown",
   "metadata": {},
   "source": [
    "### Physical Constant  \n",
    "sc.k: boltzman constant in 1.38064852e-23 J/K;  \n",
    "sc.R: gas constant in 8.3144598 J/(K mol);  \n",
    "sc.N_A: avgardo number in 6.022140857e+23 mol-1;   "
   ]
  }
 ],
 "metadata": {
  "kernelspec": {
   "display_name": "Python 3",
   "language": "python",
   "name": "python3"
  },
  "language_info": {
   "codemirror_mode": {
    "name": "ipython",
    "version": 3
   },
   "file_extension": ".py",
   "mimetype": "text/x-python",
   "name": "python",
   "nbconvert_exporter": "python",
   "pygments_lexer": "ipython3",
   "version": "3.6.4"
  }
 },
 "nbformat": 4,
 "nbformat_minor": 1
}
